{
 "cells": [
  {
   "cell_type": "markdown",
   "id": "3f64ee9a",
   "metadata": {},
   "source": [
    "# House Price Prediction with Advanced Regression"
   ]
  },
  {
   "cell_type": "markdown",
   "id": "2ebd6d4e",
   "metadata": {},
   "source": [
    "   The Data source is provided as a .csv file and data definitions are provided in the .txt file.\n",
    "   they are attached to the repository."
   ]
  },
  {
   "cell_type": "markdown",
   "id": "0c8e5a38",
   "metadata": {},
   "source": [
    "# Data Understanding and Exploration"
   ]
  },
  {
   "cell_type": "code",
   "execution_count": 1,
   "id": "9c7a9eef",
   "metadata": {},
   "outputs": [],
   "source": [
    "#import all the essential libraries\n",
    "import numpy as np\n",
    "import pandas as pd\n",
    "\n",
    "import matplotlib.pyplot as plt\n",
    "import seaborn as sns\n",
    "sns.set()\n",
    "\n",
    "from sklearn import linear_model\n",
    "from sklearn.linear_model import LinearRegression\n",
    "from sklearn.linear_model import Ridge\n",
    "from sklearn.linear_model import Lasso\n",
    "from sklearn.model_selection import GridSearchCV\n",
    "from sklearn.feature_selection import RFE\n",
    "from sklearn import metrics\n",
    "\n",
    "pd.set_option('display.max_rows', 500)\n",
    "pd.set_option('display.max_columns', 500)\n",
    "pd.set_option('display.width', 1000)\n",
    "\n",
    "import os\n",
    "\n",
    "import warnings\n",
    "warnings.filterwarnings('ignore')"
   ]
  },
  {
   "cell_type": "code",
   "execution_count": 2,
   "id": "6b1163c6",
   "metadata": {
    "scrolled": true
   },
   "outputs": [],
   "source": [
    "df=pd.read_csv('train.csv')"
   ]
  },
  {
   "cell_type": "code",
   "execution_count": 3,
   "id": "c28c7008",
   "metadata": {
    "scrolled": true
   },
   "outputs": [
    {
     "data": {
      "text/plain": [
       "(1460, 81)"
      ]
     },
     "execution_count": 3,
     "metadata": {},
     "output_type": "execute_result"
    }
   ],
   "source": [
    "# Identifying the shape of the data available\n",
    "df.shape"
   ]
  },
  {
   "cell_type": "code",
   "execution_count": 4,
   "id": "c9a5fd6d",
   "metadata": {},
   "outputs": [
    {
     "data": {
      "text/html": [
       "<div>\n",
       "<style scoped>\n",
       "    .dataframe tbody tr th:only-of-type {\n",
       "        vertical-align: middle;\n",
       "    }\n",
       "\n",
       "    .dataframe tbody tr th {\n",
       "        vertical-align: top;\n",
       "    }\n",
       "\n",
       "    .dataframe thead th {\n",
       "        text-align: right;\n",
       "    }\n",
       "</style>\n",
       "<table border=\"1\" class=\"dataframe\">\n",
       "  <thead>\n",
       "    <tr style=\"text-align: right;\">\n",
       "      <th></th>\n",
       "      <th>Id</th>\n",
       "      <th>MSSubClass</th>\n",
       "      <th>MSZoning</th>\n",
       "      <th>LotFrontage</th>\n",
       "      <th>LotArea</th>\n",
       "      <th>Street</th>\n",
       "      <th>Alley</th>\n",
       "      <th>LotShape</th>\n",
       "      <th>LandContour</th>\n",
       "      <th>Utilities</th>\n",
       "      <th>LotConfig</th>\n",
       "      <th>LandSlope</th>\n",
       "      <th>Neighborhood</th>\n",
       "      <th>Condition1</th>\n",
       "      <th>Condition2</th>\n",
       "      <th>BldgType</th>\n",
       "      <th>HouseStyle</th>\n",
       "      <th>OverallQual</th>\n",
       "      <th>OverallCond</th>\n",
       "      <th>YearBuilt</th>\n",
       "      <th>YearRemodAdd</th>\n",
       "      <th>RoofStyle</th>\n",
       "      <th>RoofMatl</th>\n",
       "      <th>Exterior1st</th>\n",
       "      <th>Exterior2nd</th>\n",
       "      <th>MasVnrType</th>\n",
       "      <th>MasVnrArea</th>\n",
       "      <th>ExterQual</th>\n",
       "      <th>ExterCond</th>\n",
       "      <th>Foundation</th>\n",
       "      <th>BsmtQual</th>\n",
       "      <th>BsmtCond</th>\n",
       "      <th>BsmtExposure</th>\n",
       "      <th>BsmtFinType1</th>\n",
       "      <th>BsmtFinSF1</th>\n",
       "      <th>BsmtFinType2</th>\n",
       "      <th>BsmtFinSF2</th>\n",
       "      <th>BsmtUnfSF</th>\n",
       "      <th>TotalBsmtSF</th>\n",
       "      <th>Heating</th>\n",
       "      <th>HeatingQC</th>\n",
       "      <th>CentralAir</th>\n",
       "      <th>Electrical</th>\n",
       "      <th>1stFlrSF</th>\n",
       "      <th>2ndFlrSF</th>\n",
       "      <th>LowQualFinSF</th>\n",
       "      <th>GrLivArea</th>\n",
       "      <th>BsmtFullBath</th>\n",
       "      <th>BsmtHalfBath</th>\n",
       "      <th>FullBath</th>\n",
       "      <th>HalfBath</th>\n",
       "      <th>BedroomAbvGr</th>\n",
       "      <th>KitchenAbvGr</th>\n",
       "      <th>KitchenQual</th>\n",
       "      <th>TotRmsAbvGrd</th>\n",
       "      <th>Functional</th>\n",
       "      <th>Fireplaces</th>\n",
       "      <th>FireplaceQu</th>\n",
       "      <th>GarageType</th>\n",
       "      <th>GarageYrBlt</th>\n",
       "      <th>GarageFinish</th>\n",
       "      <th>GarageCars</th>\n",
       "      <th>GarageArea</th>\n",
       "      <th>GarageQual</th>\n",
       "      <th>GarageCond</th>\n",
       "      <th>PavedDrive</th>\n",
       "      <th>WoodDeckSF</th>\n",
       "      <th>OpenPorchSF</th>\n",
       "      <th>EnclosedPorch</th>\n",
       "      <th>3SsnPorch</th>\n",
       "      <th>ScreenPorch</th>\n",
       "      <th>PoolArea</th>\n",
       "      <th>PoolQC</th>\n",
       "      <th>Fence</th>\n",
       "      <th>MiscFeature</th>\n",
       "      <th>MiscVal</th>\n",
       "      <th>MoSold</th>\n",
       "      <th>YrSold</th>\n",
       "      <th>SaleType</th>\n",
       "      <th>SaleCondition</th>\n",
       "      <th>SalePrice</th>\n",
       "    </tr>\n",
       "  </thead>\n",
       "  <tbody>\n",
       "    <tr>\n",
       "      <th>0</th>\n",
       "      <td>1</td>\n",
       "      <td>60</td>\n",
       "      <td>RL</td>\n",
       "      <td>65.0</td>\n",
       "      <td>8450</td>\n",
       "      <td>Pave</td>\n",
       "      <td>NaN</td>\n",
       "      <td>Reg</td>\n",
       "      <td>Lvl</td>\n",
       "      <td>AllPub</td>\n",
       "      <td>Inside</td>\n",
       "      <td>Gtl</td>\n",
       "      <td>CollgCr</td>\n",
       "      <td>Norm</td>\n",
       "      <td>Norm</td>\n",
       "      <td>1Fam</td>\n",
       "      <td>2Story</td>\n",
       "      <td>7</td>\n",
       "      <td>5</td>\n",
       "      <td>2003</td>\n",
       "      <td>2003</td>\n",
       "      <td>Gable</td>\n",
       "      <td>CompShg</td>\n",
       "      <td>VinylSd</td>\n",
       "      <td>VinylSd</td>\n",
       "      <td>BrkFace</td>\n",
       "      <td>196.0</td>\n",
       "      <td>Gd</td>\n",
       "      <td>TA</td>\n",
       "      <td>PConc</td>\n",
       "      <td>Gd</td>\n",
       "      <td>TA</td>\n",
       "      <td>No</td>\n",
       "      <td>GLQ</td>\n",
       "      <td>706</td>\n",
       "      <td>Unf</td>\n",
       "      <td>0</td>\n",
       "      <td>150</td>\n",
       "      <td>856</td>\n",
       "      <td>GasA</td>\n",
       "      <td>Ex</td>\n",
       "      <td>Y</td>\n",
       "      <td>SBrkr</td>\n",
       "      <td>856</td>\n",
       "      <td>854</td>\n",
       "      <td>0</td>\n",
       "      <td>1710</td>\n",
       "      <td>1</td>\n",
       "      <td>0</td>\n",
       "      <td>2</td>\n",
       "      <td>1</td>\n",
       "      <td>3</td>\n",
       "      <td>1</td>\n",
       "      <td>Gd</td>\n",
       "      <td>8</td>\n",
       "      <td>Typ</td>\n",
       "      <td>0</td>\n",
       "      <td>NaN</td>\n",
       "      <td>Attchd</td>\n",
       "      <td>2003.0</td>\n",
       "      <td>RFn</td>\n",
       "      <td>2</td>\n",
       "      <td>548</td>\n",
       "      <td>TA</td>\n",
       "      <td>TA</td>\n",
       "      <td>Y</td>\n",
       "      <td>0</td>\n",
       "      <td>61</td>\n",
       "      <td>0</td>\n",
       "      <td>0</td>\n",
       "      <td>0</td>\n",
       "      <td>0</td>\n",
       "      <td>NaN</td>\n",
       "      <td>NaN</td>\n",
       "      <td>NaN</td>\n",
       "      <td>0</td>\n",
       "      <td>2</td>\n",
       "      <td>2008</td>\n",
       "      <td>WD</td>\n",
       "      <td>Normal</td>\n",
       "      <td>208500</td>\n",
       "    </tr>\n",
       "    <tr>\n",
       "      <th>1</th>\n",
       "      <td>2</td>\n",
       "      <td>20</td>\n",
       "      <td>RL</td>\n",
       "      <td>80.0</td>\n",
       "      <td>9600</td>\n",
       "      <td>Pave</td>\n",
       "      <td>NaN</td>\n",
       "      <td>Reg</td>\n",
       "      <td>Lvl</td>\n",
       "      <td>AllPub</td>\n",
       "      <td>FR2</td>\n",
       "      <td>Gtl</td>\n",
       "      <td>Veenker</td>\n",
       "      <td>Feedr</td>\n",
       "      <td>Norm</td>\n",
       "      <td>1Fam</td>\n",
       "      <td>1Story</td>\n",
       "      <td>6</td>\n",
       "      <td>8</td>\n",
       "      <td>1976</td>\n",
       "      <td>1976</td>\n",
       "      <td>Gable</td>\n",
       "      <td>CompShg</td>\n",
       "      <td>MetalSd</td>\n",
       "      <td>MetalSd</td>\n",
       "      <td>None</td>\n",
       "      <td>0.0</td>\n",
       "      <td>TA</td>\n",
       "      <td>TA</td>\n",
       "      <td>CBlock</td>\n",
       "      <td>Gd</td>\n",
       "      <td>TA</td>\n",
       "      <td>Gd</td>\n",
       "      <td>ALQ</td>\n",
       "      <td>978</td>\n",
       "      <td>Unf</td>\n",
       "      <td>0</td>\n",
       "      <td>284</td>\n",
       "      <td>1262</td>\n",
       "      <td>GasA</td>\n",
       "      <td>Ex</td>\n",
       "      <td>Y</td>\n",
       "      <td>SBrkr</td>\n",
       "      <td>1262</td>\n",
       "      <td>0</td>\n",
       "      <td>0</td>\n",
       "      <td>1262</td>\n",
       "      <td>0</td>\n",
       "      <td>1</td>\n",
       "      <td>2</td>\n",
       "      <td>0</td>\n",
       "      <td>3</td>\n",
       "      <td>1</td>\n",
       "      <td>TA</td>\n",
       "      <td>6</td>\n",
       "      <td>Typ</td>\n",
       "      <td>1</td>\n",
       "      <td>TA</td>\n",
       "      <td>Attchd</td>\n",
       "      <td>1976.0</td>\n",
       "      <td>RFn</td>\n",
       "      <td>2</td>\n",
       "      <td>460</td>\n",
       "      <td>TA</td>\n",
       "      <td>TA</td>\n",
       "      <td>Y</td>\n",
       "      <td>298</td>\n",
       "      <td>0</td>\n",
       "      <td>0</td>\n",
       "      <td>0</td>\n",
       "      <td>0</td>\n",
       "      <td>0</td>\n",
       "      <td>NaN</td>\n",
       "      <td>NaN</td>\n",
       "      <td>NaN</td>\n",
       "      <td>0</td>\n",
       "      <td>5</td>\n",
       "      <td>2007</td>\n",
       "      <td>WD</td>\n",
       "      <td>Normal</td>\n",
       "      <td>181500</td>\n",
       "    </tr>\n",
       "    <tr>\n",
       "      <th>2</th>\n",
       "      <td>3</td>\n",
       "      <td>60</td>\n",
       "      <td>RL</td>\n",
       "      <td>68.0</td>\n",
       "      <td>11250</td>\n",
       "      <td>Pave</td>\n",
       "      <td>NaN</td>\n",
       "      <td>IR1</td>\n",
       "      <td>Lvl</td>\n",
       "      <td>AllPub</td>\n",
       "      <td>Inside</td>\n",
       "      <td>Gtl</td>\n",
       "      <td>CollgCr</td>\n",
       "      <td>Norm</td>\n",
       "      <td>Norm</td>\n",
       "      <td>1Fam</td>\n",
       "      <td>2Story</td>\n",
       "      <td>7</td>\n",
       "      <td>5</td>\n",
       "      <td>2001</td>\n",
       "      <td>2002</td>\n",
       "      <td>Gable</td>\n",
       "      <td>CompShg</td>\n",
       "      <td>VinylSd</td>\n",
       "      <td>VinylSd</td>\n",
       "      <td>BrkFace</td>\n",
       "      <td>162.0</td>\n",
       "      <td>Gd</td>\n",
       "      <td>TA</td>\n",
       "      <td>PConc</td>\n",
       "      <td>Gd</td>\n",
       "      <td>TA</td>\n",
       "      <td>Mn</td>\n",
       "      <td>GLQ</td>\n",
       "      <td>486</td>\n",
       "      <td>Unf</td>\n",
       "      <td>0</td>\n",
       "      <td>434</td>\n",
       "      <td>920</td>\n",
       "      <td>GasA</td>\n",
       "      <td>Ex</td>\n",
       "      <td>Y</td>\n",
       "      <td>SBrkr</td>\n",
       "      <td>920</td>\n",
       "      <td>866</td>\n",
       "      <td>0</td>\n",
       "      <td>1786</td>\n",
       "      <td>1</td>\n",
       "      <td>0</td>\n",
       "      <td>2</td>\n",
       "      <td>1</td>\n",
       "      <td>3</td>\n",
       "      <td>1</td>\n",
       "      <td>Gd</td>\n",
       "      <td>6</td>\n",
       "      <td>Typ</td>\n",
       "      <td>1</td>\n",
       "      <td>TA</td>\n",
       "      <td>Attchd</td>\n",
       "      <td>2001.0</td>\n",
       "      <td>RFn</td>\n",
       "      <td>2</td>\n",
       "      <td>608</td>\n",
       "      <td>TA</td>\n",
       "      <td>TA</td>\n",
       "      <td>Y</td>\n",
       "      <td>0</td>\n",
       "      <td>42</td>\n",
       "      <td>0</td>\n",
       "      <td>0</td>\n",
       "      <td>0</td>\n",
       "      <td>0</td>\n",
       "      <td>NaN</td>\n",
       "      <td>NaN</td>\n",
       "      <td>NaN</td>\n",
       "      <td>0</td>\n",
       "      <td>9</td>\n",
       "      <td>2008</td>\n",
       "      <td>WD</td>\n",
       "      <td>Normal</td>\n",
       "      <td>223500</td>\n",
       "    </tr>\n",
       "    <tr>\n",
       "      <th>3</th>\n",
       "      <td>4</td>\n",
       "      <td>70</td>\n",
       "      <td>RL</td>\n",
       "      <td>60.0</td>\n",
       "      <td>9550</td>\n",
       "      <td>Pave</td>\n",
       "      <td>NaN</td>\n",
       "      <td>IR1</td>\n",
       "      <td>Lvl</td>\n",
       "      <td>AllPub</td>\n",
       "      <td>Corner</td>\n",
       "      <td>Gtl</td>\n",
       "      <td>Crawfor</td>\n",
       "      <td>Norm</td>\n",
       "      <td>Norm</td>\n",
       "      <td>1Fam</td>\n",
       "      <td>2Story</td>\n",
       "      <td>7</td>\n",
       "      <td>5</td>\n",
       "      <td>1915</td>\n",
       "      <td>1970</td>\n",
       "      <td>Gable</td>\n",
       "      <td>CompShg</td>\n",
       "      <td>Wd Sdng</td>\n",
       "      <td>Wd Shng</td>\n",
       "      <td>None</td>\n",
       "      <td>0.0</td>\n",
       "      <td>TA</td>\n",
       "      <td>TA</td>\n",
       "      <td>BrkTil</td>\n",
       "      <td>TA</td>\n",
       "      <td>Gd</td>\n",
       "      <td>No</td>\n",
       "      <td>ALQ</td>\n",
       "      <td>216</td>\n",
       "      <td>Unf</td>\n",
       "      <td>0</td>\n",
       "      <td>540</td>\n",
       "      <td>756</td>\n",
       "      <td>GasA</td>\n",
       "      <td>Gd</td>\n",
       "      <td>Y</td>\n",
       "      <td>SBrkr</td>\n",
       "      <td>961</td>\n",
       "      <td>756</td>\n",
       "      <td>0</td>\n",
       "      <td>1717</td>\n",
       "      <td>1</td>\n",
       "      <td>0</td>\n",
       "      <td>1</td>\n",
       "      <td>0</td>\n",
       "      <td>3</td>\n",
       "      <td>1</td>\n",
       "      <td>Gd</td>\n",
       "      <td>7</td>\n",
       "      <td>Typ</td>\n",
       "      <td>1</td>\n",
       "      <td>Gd</td>\n",
       "      <td>Detchd</td>\n",
       "      <td>1998.0</td>\n",
       "      <td>Unf</td>\n",
       "      <td>3</td>\n",
       "      <td>642</td>\n",
       "      <td>TA</td>\n",
       "      <td>TA</td>\n",
       "      <td>Y</td>\n",
       "      <td>0</td>\n",
       "      <td>35</td>\n",
       "      <td>272</td>\n",
       "      <td>0</td>\n",
       "      <td>0</td>\n",
       "      <td>0</td>\n",
       "      <td>NaN</td>\n",
       "      <td>NaN</td>\n",
       "      <td>NaN</td>\n",
       "      <td>0</td>\n",
       "      <td>2</td>\n",
       "      <td>2006</td>\n",
       "      <td>WD</td>\n",
       "      <td>Abnorml</td>\n",
       "      <td>140000</td>\n",
       "    </tr>\n",
       "    <tr>\n",
       "      <th>4</th>\n",
       "      <td>5</td>\n",
       "      <td>60</td>\n",
       "      <td>RL</td>\n",
       "      <td>84.0</td>\n",
       "      <td>14260</td>\n",
       "      <td>Pave</td>\n",
       "      <td>NaN</td>\n",
       "      <td>IR1</td>\n",
       "      <td>Lvl</td>\n",
       "      <td>AllPub</td>\n",
       "      <td>FR2</td>\n",
       "      <td>Gtl</td>\n",
       "      <td>NoRidge</td>\n",
       "      <td>Norm</td>\n",
       "      <td>Norm</td>\n",
       "      <td>1Fam</td>\n",
       "      <td>2Story</td>\n",
       "      <td>8</td>\n",
       "      <td>5</td>\n",
       "      <td>2000</td>\n",
       "      <td>2000</td>\n",
       "      <td>Gable</td>\n",
       "      <td>CompShg</td>\n",
       "      <td>VinylSd</td>\n",
       "      <td>VinylSd</td>\n",
       "      <td>BrkFace</td>\n",
       "      <td>350.0</td>\n",
       "      <td>Gd</td>\n",
       "      <td>TA</td>\n",
       "      <td>PConc</td>\n",
       "      <td>Gd</td>\n",
       "      <td>TA</td>\n",
       "      <td>Av</td>\n",
       "      <td>GLQ</td>\n",
       "      <td>655</td>\n",
       "      <td>Unf</td>\n",
       "      <td>0</td>\n",
       "      <td>490</td>\n",
       "      <td>1145</td>\n",
       "      <td>GasA</td>\n",
       "      <td>Ex</td>\n",
       "      <td>Y</td>\n",
       "      <td>SBrkr</td>\n",
       "      <td>1145</td>\n",
       "      <td>1053</td>\n",
       "      <td>0</td>\n",
       "      <td>2198</td>\n",
       "      <td>1</td>\n",
       "      <td>0</td>\n",
       "      <td>2</td>\n",
       "      <td>1</td>\n",
       "      <td>4</td>\n",
       "      <td>1</td>\n",
       "      <td>Gd</td>\n",
       "      <td>9</td>\n",
       "      <td>Typ</td>\n",
       "      <td>1</td>\n",
       "      <td>TA</td>\n",
       "      <td>Attchd</td>\n",
       "      <td>2000.0</td>\n",
       "      <td>RFn</td>\n",
       "      <td>3</td>\n",
       "      <td>836</td>\n",
       "      <td>TA</td>\n",
       "      <td>TA</td>\n",
       "      <td>Y</td>\n",
       "      <td>192</td>\n",
       "      <td>84</td>\n",
       "      <td>0</td>\n",
       "      <td>0</td>\n",
       "      <td>0</td>\n",
       "      <td>0</td>\n",
       "      <td>NaN</td>\n",
       "      <td>NaN</td>\n",
       "      <td>NaN</td>\n",
       "      <td>0</td>\n",
       "      <td>12</td>\n",
       "      <td>2008</td>\n",
       "      <td>WD</td>\n",
       "      <td>Normal</td>\n",
       "      <td>250000</td>\n",
       "    </tr>\n",
       "  </tbody>\n",
       "</table>\n",
       "</div>"
      ],
      "text/plain": [
       "   Id  MSSubClass MSZoning  LotFrontage  LotArea Street Alley LotShape LandContour Utilities LotConfig LandSlope Neighborhood Condition1 Condition2 BldgType HouseStyle  OverallQual  OverallCond  YearBuilt  YearRemodAdd RoofStyle RoofMatl Exterior1st Exterior2nd MasVnrType  MasVnrArea ExterQual ExterCond Foundation BsmtQual BsmtCond BsmtExposure BsmtFinType1  BsmtFinSF1 BsmtFinType2  BsmtFinSF2  BsmtUnfSF  TotalBsmtSF Heating HeatingQC CentralAir Electrical  1stFlrSF  2ndFlrSF  LowQualFinSF  GrLivArea  BsmtFullBath  BsmtHalfBath  FullBath  HalfBath  BedroomAbvGr  KitchenAbvGr KitchenQual  TotRmsAbvGrd Functional  Fireplaces FireplaceQu GarageType  GarageYrBlt GarageFinish  GarageCars  GarageArea GarageQual GarageCond PavedDrive  WoodDeckSF  OpenPorchSF  EnclosedPorch  3SsnPorch  ScreenPorch  PoolArea PoolQC Fence MiscFeature  MiscVal  MoSold  YrSold SaleType SaleCondition  SalePrice\n",
       "0   1          60       RL         65.0     8450   Pave   NaN      Reg         Lvl    AllPub    Inside       Gtl      CollgCr       Norm       Norm     1Fam     2Story            7            5       2003          2003     Gable  CompShg     VinylSd     VinylSd    BrkFace       196.0        Gd        TA      PConc       Gd       TA           No          GLQ         706          Unf           0        150          856    GasA        Ex          Y      SBrkr       856       854             0       1710             1             0         2         1             3             1          Gd             8        Typ           0         NaN     Attchd       2003.0          RFn           2         548         TA         TA          Y           0           61              0          0            0         0    NaN   NaN         NaN        0       2    2008       WD        Normal     208500\n",
       "1   2          20       RL         80.0     9600   Pave   NaN      Reg         Lvl    AllPub       FR2       Gtl      Veenker      Feedr       Norm     1Fam     1Story            6            8       1976          1976     Gable  CompShg     MetalSd     MetalSd       None         0.0        TA        TA     CBlock       Gd       TA           Gd          ALQ         978          Unf           0        284         1262    GasA        Ex          Y      SBrkr      1262         0             0       1262             0             1         2         0             3             1          TA             6        Typ           1          TA     Attchd       1976.0          RFn           2         460         TA         TA          Y         298            0              0          0            0         0    NaN   NaN         NaN        0       5    2007       WD        Normal     181500\n",
       "2   3          60       RL         68.0    11250   Pave   NaN      IR1         Lvl    AllPub    Inside       Gtl      CollgCr       Norm       Norm     1Fam     2Story            7            5       2001          2002     Gable  CompShg     VinylSd     VinylSd    BrkFace       162.0        Gd        TA      PConc       Gd       TA           Mn          GLQ         486          Unf           0        434          920    GasA        Ex          Y      SBrkr       920       866             0       1786             1             0         2         1             3             1          Gd             6        Typ           1          TA     Attchd       2001.0          RFn           2         608         TA         TA          Y           0           42              0          0            0         0    NaN   NaN         NaN        0       9    2008       WD        Normal     223500\n",
       "3   4          70       RL         60.0     9550   Pave   NaN      IR1         Lvl    AllPub    Corner       Gtl      Crawfor       Norm       Norm     1Fam     2Story            7            5       1915          1970     Gable  CompShg     Wd Sdng     Wd Shng       None         0.0        TA        TA     BrkTil       TA       Gd           No          ALQ         216          Unf           0        540          756    GasA        Gd          Y      SBrkr       961       756             0       1717             1             0         1         0             3             1          Gd             7        Typ           1          Gd     Detchd       1998.0          Unf           3         642         TA         TA          Y           0           35            272          0            0         0    NaN   NaN         NaN        0       2    2006       WD       Abnorml     140000\n",
       "4   5          60       RL         84.0    14260   Pave   NaN      IR1         Lvl    AllPub       FR2       Gtl      NoRidge       Norm       Norm     1Fam     2Story            8            5       2000          2000     Gable  CompShg     VinylSd     VinylSd    BrkFace       350.0        Gd        TA      PConc       Gd       TA           Av          GLQ         655          Unf           0        490         1145    GasA        Ex          Y      SBrkr      1145      1053             0       2198             1             0         2         1             4             1          Gd             9        Typ           1          TA     Attchd       2000.0          RFn           3         836         TA         TA          Y         192           84              0          0            0         0    NaN   NaN         NaN        0      12    2008       WD        Normal     250000"
      ]
     },
     "execution_count": 4,
     "metadata": {},
     "output_type": "execute_result"
    }
   ],
   "source": [
    "# Getting the head of the data to see how the parameters are arranged \n",
    "df.head()"
   ]
  },
  {
   "cell_type": "code",
   "execution_count": 5,
   "id": "3b8b7911",
   "metadata": {},
   "outputs": [
    {
     "name": "stdout",
     "output_type": "stream",
     "text": [
      "<class 'pandas.core.frame.DataFrame'>\n",
      "RangeIndex: 1460 entries, 0 to 1459\n",
      "Data columns (total 81 columns):\n",
      " #   Column         Non-Null Count  Dtype  \n",
      "---  ------         --------------  -----  \n",
      " 0   Id             1460 non-null   int64  \n",
      " 1   MSSubClass     1460 non-null   int64  \n",
      " 2   MSZoning       1460 non-null   object \n",
      " 3   LotFrontage    1201 non-null   float64\n",
      " 4   LotArea        1460 non-null   int64  \n",
      " 5   Street         1460 non-null   object \n",
      " 6   Alley          91 non-null     object \n",
      " 7   LotShape       1460 non-null   object \n",
      " 8   LandContour    1460 non-null   object \n",
      " 9   Utilities      1460 non-null   object \n",
      " 10  LotConfig      1460 non-null   object \n",
      " 11  LandSlope      1460 non-null   object \n",
      " 12  Neighborhood   1460 non-null   object \n",
      " 13  Condition1     1460 non-null   object \n",
      " 14  Condition2     1460 non-null   object \n",
      " 15  BldgType       1460 non-null   object \n",
      " 16  HouseStyle     1460 non-null   object \n",
      " 17  OverallQual    1460 non-null   int64  \n",
      " 18  OverallCond    1460 non-null   int64  \n",
      " 19  YearBuilt      1460 non-null   int64  \n",
      " 20  YearRemodAdd   1460 non-null   int64  \n",
      " 21  RoofStyle      1460 non-null   object \n",
      " 22  RoofMatl       1460 non-null   object \n",
      " 23  Exterior1st    1460 non-null   object \n",
      " 24  Exterior2nd    1460 non-null   object \n",
      " 25  MasVnrType     1452 non-null   object \n",
      " 26  MasVnrArea     1452 non-null   float64\n",
      " 27  ExterQual      1460 non-null   object \n",
      " 28  ExterCond      1460 non-null   object \n",
      " 29  Foundation     1460 non-null   object \n",
      " 30  BsmtQual       1423 non-null   object \n",
      " 31  BsmtCond       1423 non-null   object \n",
      " 32  BsmtExposure   1422 non-null   object \n",
      " 33  BsmtFinType1   1423 non-null   object \n",
      " 34  BsmtFinSF1     1460 non-null   int64  \n",
      " 35  BsmtFinType2   1422 non-null   object \n",
      " 36  BsmtFinSF2     1460 non-null   int64  \n",
      " 37  BsmtUnfSF      1460 non-null   int64  \n",
      " 38  TotalBsmtSF    1460 non-null   int64  \n",
      " 39  Heating        1460 non-null   object \n",
      " 40  HeatingQC      1460 non-null   object \n",
      " 41  CentralAir     1460 non-null   object \n",
      " 42  Electrical     1459 non-null   object \n",
      " 43  1stFlrSF       1460 non-null   int64  \n",
      " 44  2ndFlrSF       1460 non-null   int64  \n",
      " 45  LowQualFinSF   1460 non-null   int64  \n",
      " 46  GrLivArea      1460 non-null   int64  \n",
      " 47  BsmtFullBath   1460 non-null   int64  \n",
      " 48  BsmtHalfBath   1460 non-null   int64  \n",
      " 49  FullBath       1460 non-null   int64  \n",
      " 50  HalfBath       1460 non-null   int64  \n",
      " 51  BedroomAbvGr   1460 non-null   int64  \n",
      " 52  KitchenAbvGr   1460 non-null   int64  \n",
      " 53  KitchenQual    1460 non-null   object \n",
      " 54  TotRmsAbvGrd   1460 non-null   int64  \n",
      " 55  Functional     1460 non-null   object \n",
      " 56  Fireplaces     1460 non-null   int64  \n",
      " 57  FireplaceQu    770 non-null    object \n",
      " 58  GarageType     1379 non-null   object \n",
      " 59  GarageYrBlt    1379 non-null   float64\n",
      " 60  GarageFinish   1379 non-null   object \n",
      " 61  GarageCars     1460 non-null   int64  \n",
      " 62  GarageArea     1460 non-null   int64  \n",
      " 63  GarageQual     1379 non-null   object \n",
      " 64  GarageCond     1379 non-null   object \n",
      " 65  PavedDrive     1460 non-null   object \n",
      " 66  WoodDeckSF     1460 non-null   int64  \n",
      " 67  OpenPorchSF    1460 non-null   int64  \n",
      " 68  EnclosedPorch  1460 non-null   int64  \n",
      " 69  3SsnPorch      1460 non-null   int64  \n",
      " 70  ScreenPorch    1460 non-null   int64  \n",
      " 71  PoolArea       1460 non-null   int64  \n",
      " 72  PoolQC         7 non-null      object \n",
      " 73  Fence          281 non-null    object \n",
      " 74  MiscFeature    54 non-null     object \n",
      " 75  MiscVal        1460 non-null   int64  \n",
      " 76  MoSold         1460 non-null   int64  \n",
      " 77  YrSold         1460 non-null   int64  \n",
      " 78  SaleType       1460 non-null   object \n",
      " 79  SaleCondition  1460 non-null   object \n",
      " 80  SalePrice      1460 non-null   int64  \n",
      "dtypes: float64(3), int64(35), object(43)\n",
      "memory usage: 924.0+ KB\n"
     ]
    }
   ],
   "source": [
    "#Understanding the data\n",
    "df.info()"
   ]
  },
  {
   "cell_type": "code",
   "execution_count": 6,
   "id": "fd693b0d",
   "metadata": {},
   "outputs": [
    {
     "data": {
      "text/plain": [
       "Id                 int64\n",
       "MSSubClass         int64\n",
       "MSZoning          object\n",
       "LotFrontage      float64\n",
       "LotArea            int64\n",
       "Street            object\n",
       "Alley             object\n",
       "LotShape          object\n",
       "LandContour       object\n",
       "Utilities         object\n",
       "LotConfig         object\n",
       "LandSlope         object\n",
       "Neighborhood      object\n",
       "Condition1        object\n",
       "Condition2        object\n",
       "BldgType          object\n",
       "HouseStyle        object\n",
       "OverallQual        int64\n",
       "OverallCond        int64\n",
       "YearBuilt          int64\n",
       "YearRemodAdd       int64\n",
       "RoofStyle         object\n",
       "RoofMatl          object\n",
       "Exterior1st       object\n",
       "Exterior2nd       object\n",
       "MasVnrType        object\n",
       "MasVnrArea       float64\n",
       "ExterQual         object\n",
       "ExterCond         object\n",
       "Foundation        object\n",
       "BsmtQual          object\n",
       "BsmtCond          object\n",
       "BsmtExposure      object\n",
       "BsmtFinType1      object\n",
       "BsmtFinSF1         int64\n",
       "BsmtFinType2      object\n",
       "BsmtFinSF2         int64\n",
       "BsmtUnfSF          int64\n",
       "TotalBsmtSF        int64\n",
       "Heating           object\n",
       "HeatingQC         object\n",
       "CentralAir        object\n",
       "Electrical        object\n",
       "1stFlrSF           int64\n",
       "2ndFlrSF           int64\n",
       "LowQualFinSF       int64\n",
       "GrLivArea          int64\n",
       "BsmtFullBath       int64\n",
       "BsmtHalfBath       int64\n",
       "FullBath           int64\n",
       "HalfBath           int64\n",
       "BedroomAbvGr       int64\n",
       "KitchenAbvGr       int64\n",
       "KitchenQual       object\n",
       "TotRmsAbvGrd       int64\n",
       "Functional        object\n",
       "Fireplaces         int64\n",
       "FireplaceQu       object\n",
       "GarageType        object\n",
       "GarageYrBlt      float64\n",
       "GarageFinish      object\n",
       "GarageCars         int64\n",
       "GarageArea         int64\n",
       "GarageQual        object\n",
       "GarageCond        object\n",
       "PavedDrive        object\n",
       "WoodDeckSF         int64\n",
       "OpenPorchSF        int64\n",
       "EnclosedPorch      int64\n",
       "3SsnPorch          int64\n",
       "ScreenPorch        int64\n",
       "PoolArea           int64\n",
       "PoolQC            object\n",
       "Fence             object\n",
       "MiscFeature       object\n",
       "MiscVal            int64\n",
       "MoSold             int64\n",
       "YrSold             int64\n",
       "SaleType          object\n",
       "SaleCondition     object\n",
       "SalePrice          int64\n",
       "dtype: object"
      ]
     },
     "execution_count": 6,
     "metadata": {},
     "output_type": "execute_result"
    }
   ],
   "source": [
    "## checking data types of the variables\n",
    "df.dtypes"
   ]
  },
  {
   "cell_type": "markdown",
   "id": "14cd6091",
   "metadata": {},
   "source": [
    "# Handling Missing Data/ Data Cleaning"
   ]
  },
  {
   "cell_type": "code",
   "execution_count": 7,
   "id": "f1a88166",
   "metadata": {},
   "outputs": [
    {
     "data": {
      "text/plain": [
       "Id                  0\n",
       "MSSubClass          0\n",
       "MSZoning            0\n",
       "LotFrontage       259\n",
       "LotArea             0\n",
       "Street              0\n",
       "Alley            1369\n",
       "LotShape            0\n",
       "LandContour         0\n",
       "Utilities           0\n",
       "LotConfig           0\n",
       "LandSlope           0\n",
       "Neighborhood        0\n",
       "Condition1          0\n",
       "Condition2          0\n",
       "BldgType            0\n",
       "HouseStyle          0\n",
       "OverallQual         0\n",
       "OverallCond         0\n",
       "YearBuilt           0\n",
       "YearRemodAdd        0\n",
       "RoofStyle           0\n",
       "RoofMatl            0\n",
       "Exterior1st         0\n",
       "Exterior2nd         0\n",
       "MasVnrType          8\n",
       "MasVnrArea          8\n",
       "ExterQual           0\n",
       "ExterCond           0\n",
       "Foundation          0\n",
       "BsmtQual           37\n",
       "BsmtCond           37\n",
       "BsmtExposure       38\n",
       "BsmtFinType1       37\n",
       "BsmtFinSF1          0\n",
       "BsmtFinType2       38\n",
       "BsmtFinSF2          0\n",
       "BsmtUnfSF           0\n",
       "TotalBsmtSF         0\n",
       "Heating             0\n",
       "HeatingQC           0\n",
       "CentralAir          0\n",
       "Electrical          1\n",
       "1stFlrSF            0\n",
       "2ndFlrSF            0\n",
       "LowQualFinSF        0\n",
       "GrLivArea           0\n",
       "BsmtFullBath        0\n",
       "BsmtHalfBath        0\n",
       "FullBath            0\n",
       "HalfBath            0\n",
       "BedroomAbvGr        0\n",
       "KitchenAbvGr        0\n",
       "KitchenQual         0\n",
       "TotRmsAbvGrd        0\n",
       "Functional          0\n",
       "Fireplaces          0\n",
       "FireplaceQu       690\n",
       "GarageType         81\n",
       "GarageYrBlt        81\n",
       "GarageFinish       81\n",
       "GarageCars          0\n",
       "GarageArea          0\n",
       "GarageQual         81\n",
       "GarageCond         81\n",
       "PavedDrive          0\n",
       "WoodDeckSF          0\n",
       "OpenPorchSF         0\n",
       "EnclosedPorch       0\n",
       "3SsnPorch           0\n",
       "ScreenPorch         0\n",
       "PoolArea            0\n",
       "PoolQC           1453\n",
       "Fence            1179\n",
       "MiscFeature      1406\n",
       "MiscVal             0\n",
       "MoSold              0\n",
       "YrSold              0\n",
       "SaleType            0\n",
       "SaleCondition       0\n",
       "SalePrice           0\n",
       "dtype: int64"
      ]
     },
     "execution_count": 7,
     "metadata": {},
     "output_type": "execute_result"
    }
   ],
   "source": [
    "df.isnull().sum()"
   ]
  },
  {
   "cell_type": "code",
   "execution_count": 8,
   "id": "4e7e9ab8",
   "metadata": {},
   "outputs": [
    {
     "data": {
      "text/plain": [
       "PoolQC          99.520548\n",
       "MiscFeature     96.301370\n",
       "Alley           93.767123\n",
       "Fence           80.753425\n",
       "FireplaceQu     47.260274\n",
       "LotFrontage     17.739726\n",
       "GarageYrBlt      5.547945\n",
       "GarageCond       5.547945\n",
       "GarageType       5.547945\n",
       "GarageFinish     5.547945\n",
       "GarageQual       5.547945\n",
       "BsmtFinType2     2.602740\n",
       "BsmtExposure     2.602740\n",
       "BsmtQual         2.534247\n",
       "BsmtCond         2.534247\n",
       "BsmtFinType1     2.534247\n",
       "MasVnrArea       0.547945\n",
       "MasVnrType       0.547945\n",
       "Electrical       0.068493\n",
       "Id               0.000000\n",
       "Functional       0.000000\n",
       "Fireplaces       0.000000\n",
       "KitchenQual      0.000000\n",
       "KitchenAbvGr     0.000000\n",
       "BedroomAbvGr     0.000000\n",
       "HalfBath         0.000000\n",
       "FullBath         0.000000\n",
       "BsmtHalfBath     0.000000\n",
       "TotRmsAbvGrd     0.000000\n",
       "GarageCars       0.000000\n",
       "dtype: float64"
      ]
     },
     "execution_count": 8,
     "metadata": {},
     "output_type": "execute_result"
    }
   ],
   "source": [
    "#check missing percentage\n",
    "percent_missing = (df.isnull().sum() / df.isnull().count()*100).sort_values(ascending = False)\n",
    "percent_missing.head(30)"
   ]
  },
  {
   "cell_type": "code",
   "execution_count": null,
   "id": "c8257969",
   "metadata": {},
   "outputs": [],
   "source": [
    "# We have to drop first 5 columns which contains large number of null values\n",
    "df.drop(['Id', 'PoolQC','MiscFeature','Alley','Fence','FireplaceQu'],axis=1,inplace=True)"
   ]
  },
  {
   "cell_type": "code",
   "execution_count": null,
   "id": "dc10ee8a",
   "metadata": {},
   "outputs": [],
   "source": [
    "#checking missng values again\n",
    "percent_missing = (df.isnull().sum() / df.isnull().count()*100).sort_values(ascending = False)\n",
    "percent_missing.head(30)"
   ]
  },
  {
   "cell_type": "code",
   "execution_count": null,
   "id": "691aafc2",
   "metadata": {},
   "outputs": [],
   "source": [
    "#Checking the summary\n",
    "df.describe()"
   ]
  },
  {
   "cell_type": "code",
   "execution_count": null,
   "id": "5349cbfb",
   "metadata": {},
   "outputs": [],
   "source": [
    "#We will go ahead and drop these columns as they are dominated by one value and won't add any extra information to our model\n",
    "df=df.drop(['PoolArea','MiscVal','3SsnPorch'],axis=1)"
   ]
  },
  {
   "cell_type": "code",
   "execution_count": null,
   "id": "493bc70a",
   "metadata": {},
   "outputs": [],
   "source": [
    "#Checking the summary\n",
    "df.describe()"
   ]
  },
  {
   "cell_type": "code",
   "execution_count": null,
   "id": "bcb6a9b4",
   "metadata": {},
   "outputs": [],
   "source": [
    "## From the data description NA can be replaced by No garage \n",
    "df['GarageType'] = df['GarageType'].replace(np.NaN, 'NoGarage')\n",
    "df['GarageYrBlt'] = df['GarageYrBlt'].replace(np.NaN, 0.0)\n",
    "df['GarageFinish'] = df['GarageFinish'].replace(np.NaN, 'NoGarage')\n",
    "df['GarageCond'] = df['GarageCond'].replace(np.NaN, 'NoGarage')\n",
    "df['GarageQual'] = df['GarageQual'].replace(np.NaN, 'NoGarage')"
   ]
  },
  {
   "cell_type": "code",
   "execution_count": null,
   "id": "ec0a441f",
   "metadata": {},
   "outputs": [],
   "source": [
    "## checking null values again\n",
    "round(100*(df.isnull().sum()/len(df.index)),2).sort_values(ascending = False)"
   ]
  },
  {
   "cell_type": "code",
   "execution_count": null,
   "id": "96c1f8e8",
   "metadata": {},
   "outputs": [],
   "source": [
    "## similarly for basement columns replace with NoBasement\n",
    "df['BsmtFinType2'] = df['BsmtFinType2'].replace(np.NaN, 'NoBasement')\n",
    "df['BsmtExposure'] = df['BsmtExposure'].replace(np.NaN, 'NoBasement')\n",
    "df['BsmtFinType1'] = df['BsmtFinType1'].replace(np.NaN, 'NoBasement')\n",
    "df['BsmtCond'] = df['BsmtCond'].replace(np.NaN, 'NoBasement')\n",
    "df['BsmtQual'] = df['BsmtQual'].replace(np.NaN, 'NoBasement')"
   ]
  },
  {
   "cell_type": "code",
   "execution_count": null,
   "id": "6c237ad4",
   "metadata": {},
   "outputs": [],
   "source": [
    "#Lotfrontage has approx 17% data missing and as the box plot shows it also has outlier hence imoputing using median instead of mean\n",
    "df['LotFrontage']= df.LotFrontage.fillna(df.LotFrontage.median()) "
   ]
  },
  {
   "cell_type": "code",
   "execution_count": null,
   "id": "4e3c1244",
   "metadata": {},
   "outputs": [],
   "source": [
    "## checking null values again\n",
    "round(100*(df.isnull().sum()/len(df.index)),2).sort_values(ascending = False)"
   ]
  },
  {
   "cell_type": "code",
   "execution_count": null,
   "id": "43a141a9",
   "metadata": {},
   "outputs": [],
   "source": [
    "df['MasVnrArea'] = df['MasVnrArea'].replace(np.NaN, 0.0)\n",
    "df['MasVnrType'] = df['MasVnrType'].replace(np.NaN, 'None')"
   ]
  },
  {
   "cell_type": "code",
   "execution_count": null,
   "id": "ba43f8e8",
   "metadata": {},
   "outputs": [],
   "source": [
    "#again checking for null values\n",
    "round(100*(df.isnull().sum()/len(df.index)),2).sort_values(ascending = False)"
   ]
  },
  {
   "cell_type": "markdown",
   "id": "ccb80052",
   "metadata": {},
   "source": [
    "#### Null Values have been eliminated"
   ]
  },
  {
   "cell_type": "code",
   "execution_count": null,
   "id": "a11ff3a4",
   "metadata": {},
   "outputs": [],
   "source": [
    "#check for duplicates if any\n",
    "df[df.duplicated(keep=False)]"
   ]
  },
  {
   "cell_type": "code",
   "execution_count": null,
   "id": "cb29eeb2",
   "metadata": {},
   "outputs": [],
   "source": [
    "#checking the summary of the data\n",
    "df.describe()"
   ]
  },
  {
   "cell_type": "code",
   "execution_count": null,
   "id": "a60d18f5",
   "metadata": {},
   "outputs": [],
   "source": [
    "#Checking the shape of the dataframe\n",
    "df.shape"
   ]
  },
  {
   "cell_type": "markdown",
   "id": "d6423ac2",
   "metadata": {},
   "source": [
    "# Exploratory Data Analysis and Visualization"
   ]
  },
  {
   "cell_type": "code",
   "execution_count": null,
   "id": "22df91a9",
   "metadata": {},
   "outputs": [],
   "source": [
    "#Checking Sale Column\n",
    "plt.figure()\n",
    "sns.displot(df['SalePrice'],color='b')\n",
    "plt.show()"
   ]
  },
  {
   "cell_type": "code",
   "execution_count": null,
   "id": "cfc148cb",
   "metadata": {},
   "outputs": [],
   "source": [
    "#identifying numeric variables\n",
    "df.select_dtypes(exclude=object).columns"
   ]
  },
  {
   "cell_type": "code",
   "execution_count": null,
   "id": "2e466b59",
   "metadata": {},
   "outputs": [],
   "source": [
    "#Using IQR to remove outliers\n",
    "cols = ['MSSubClass', 'LotFrontage', 'LotArea', 'OverallQual', 'OverallCond', \n",
    "         'YearBuilt', 'YearRemodAdd', 'MasVnrArea', 'BsmtFinSF1', 'BsmtFinSF2', 'BsmtUnfSF', 'TotalBsmtSF', '1stFlrSF',\n",
    "        '2ndFlrSF', 'LowQualFinSF', 'GrLivArea', 'BsmtFullBath', 'BsmtHalfBath', 'FullBath', 'HalfBath', 'BedroomAbvGr', \n",
    "        'KitchenAbvGr', 'TotRmsAbvGrd', 'Fireplaces', 'GarageYrBlt', 'GarageCars', 'GarageArea', 'WoodDeckSF', 'OpenPorchSF',\n",
    "        'EnclosedPorch','ScreenPorch', 'MoSold', 'YrSold', 'SalePrice']\n",
    "Q1=df[cols].quantile(0.05)\n",
    "Q3=df[cols].quantile(0.95)\n",
    "IQR=Q3-Q1\n",
    "df=df[~((df[cols] < ( Q1 - 1.5 * IQR )) | (df[cols] > ( Q3 + 1.5 * IQR))).any(axis=1)]"
   ]
  },
  {
   "cell_type": "code",
   "execution_count": null,
   "id": "e9c56eb8",
   "metadata": {},
   "outputs": [],
   "source": [
    "#Sale Column\n",
    "plt.figure()\n",
    "sns.displot(df['SalePrice'],color='b')\n",
    "plt.show()"
   ]
  },
  {
   "cell_type": "code",
   "execution_count": null,
   "id": "69e44ea8",
   "metadata": {},
   "outputs": [],
   "source": [
    "#Checking info after outlier treatment\n",
    "df.info()"
   ]
  },
  {
   "cell_type": "code",
   "execution_count": null,
   "id": "2bd3277d",
   "metadata": {},
   "outputs": [],
   "source": [
    "# Convert year related columns to number of years, to find how old the house is, or how many years ago that particular\n",
    "# house was sold.\n",
    "df['YearBuilt'] = 2020 - df['YearBuilt']\n",
    "df['YearRemodAdd'] = 2020 - df['YearRemodAdd']\n",
    "df['GarageYrBlt'] = 2020 - df['GarageYrBlt']\n",
    "df['YrSold'] = 2020 - df['YrSold']\n",
    "df.shape"
   ]
  },
  {
   "cell_type": "code",
   "execution_count": null,
   "id": "81b42e6b",
   "metadata": {},
   "outputs": [],
   "source": [
    "## identifying numeric variables\n",
    "numeric = df.select_dtypes(include=['float64','int64'])\n",
    "numeric = numeric.columns"
   ]
  },
  {
   "cell_type": "code",
   "execution_count": null,
   "id": "e8581d3e",
   "metadata": {},
   "outputs": [],
   "source": [
    "## making pairplots to identify trends \n",
    "plt.figure(figsize = (20,50))\n",
    "i = 1\n",
    "for x in numeric :\n",
    "    plt.subplot(len(numeric)//3+1,3,i)\n",
    "    sns.scatterplot(y='SalePrice',x=x,data=df)\n",
    "    plt.xticks(rotation = 'vertical')\n",
    "    i = i+1\n",
    "plt.tight_layout()\n",
    "plt.show()"
   ]
  },
  {
   "cell_type": "code",
   "execution_count": null,
   "id": "449a3551",
   "metadata": {},
   "outputs": [],
   "source": [
    "## finding out correlation between variable and correlation wrt to target variable\n",
    "plt.figure(figsize = (30, 20))\n",
    "sns.heatmap(df[numeric].corr(),cmap=\"Greens\", annot = True)\n",
    "plt.show()"
   ]
  },
  {
   "cell_type": "markdown",
   "id": "a354358c",
   "metadata": {},
   "source": [
    "* Variables that are highly correlated with Sale Price are : OverallQual,GrLivArea, GarageArea, TotBsmtSF, 1stFlrSF,TotalRmsAbvGrd,FullBath and YearBuilt\n",
    "* GarageArea and GarageCars are highly correlated with a correlation of 0.88\n",
    "* TotRmsAbvGrd and GrLivArea are correlated to each other with a correlation of 0.83\n",
    "* 1stFlrSF and TotalBsmtSF are highly correlated with a correlation of 0.82"
   ]
  },
  {
   "cell_type": "code",
   "execution_count": null,
   "id": "5be4ff64",
   "metadata": {},
   "outputs": [],
   "source": [
    "columns=['SalePrice','OverallQual', 'GrLivArea', 'GarageCars', 'TotalBsmtSF', 'FullBath', 'YearBuilt']\n",
    "sns.pairplot(df[columns])\n",
    "plt.show()"
   ]
  },
  {
   "cell_type": "markdown",
   "id": "cb1f8840",
   "metadata": {},
   "source": [
    "* Visualizing categorical variables"
   ]
  },
  {
   "cell_type": "code",
   "execution_count": null,
   "id": "ca74af20",
   "metadata": {},
   "outputs": [],
   "source": [
    "##identifying categorical variables\n",
    "categorical = df.select_dtypes(include=['object'])\n",
    "categorical = categorical.columns\n",
    "categorical"
   ]
  },
  {
   "cell_type": "code",
   "execution_count": null,
   "id": "457b531b",
   "metadata": {},
   "outputs": [],
   "source": [
    "plt.figure(figsize=(15,15))\n",
    "plt.subplot(221)\n",
    "sns.countplot(x='MSZoning', data=df)\n",
    "plt.subplot(222)\n",
    "sns.countplot(x='Street', data=df)\n",
    "plt.subplot(223)\n",
    "sns.countplot(x='LotShape', data=df)\n",
    "plt.subplot(224)\n",
    "sns.countplot(x='LandContour', data=df)\n",
    "\n",
    "plt.figure(figsize=(15,15))\n",
    "plt.subplot(221)\n",
    "sns.countplot(x='RoofStyle', data=df)\n",
    "plt.subplot(222)\n",
    "sns.countplot(x='LotConfig', data=df)\n",
    "plt.subplot(223)\n",
    "sns.countplot(x='LandSlope', data=df)\n",
    "plt.subplot(224)\n",
    "sns.countplot(x='Neighborhood', data=df)\n",
    "\n",
    "plt.figure(figsize=(15,15))\n",
    "plt.subplot(221)\n",
    "sns.countplot(x='BsmtQual', data=df)\n",
    "plt.subplot(222)\n",
    "sns.countplot(x='BsmtExposure', data=df)\n",
    "plt.subplot(223)\n",
    "sns.countplot(x='BsmtFinType1', data=df)\n",
    "plt.subplot(224)\n",
    "sns.countplot(x= 'BsmtFinType2', data=df)\n",
    "\n",
    "plt.figure(figsize=(15,15))\n",
    "plt.subplot(221)\n",
    "sns.countplot(x='GarageType', data=df)\n",
    "plt.subplot(222)\n",
    "sns.countplot(x='GarageFinish', data=df)\n",
    "plt.subplot(223)\n",
    "sns.countplot(x='GarageQual', data=df)\n",
    "plt.subplot(224)\n",
    "sns.countplot(x='GarageCond', data=df)"
   ]
  },
  {
   "cell_type": "markdown",
   "id": "22c9c997",
   "metadata": {},
   "source": [
    "# Data Preparation\n",
    "- Here We will do encoding of variables (dummy variables)\n",
    "- We will be Splitting the data into train and test sets\n",
    "- We will then do feature scaling"
   ]
  },
  {
   "cell_type": "code",
   "execution_count": null,
   "id": "8b46e894",
   "metadata": {},
   "outputs": [],
   "source": [
    "y=df.pop('SalePrice')\n",
    "X=df"
   ]
  },
  {
   "cell_type": "code",
   "execution_count": null,
   "id": "871bee21",
   "metadata": {},
   "outputs": [],
   "source": [
    "housing_cat = X.select_dtypes(include=['object'])\n",
    "housing_cat.head()"
   ]
  },
  {
   "cell_type": "code",
   "execution_count": null,
   "id": "8018b985",
   "metadata": {},
   "outputs": [],
   "source": [
    "## creating dummy variables for categorical variables\n",
    "housing_dum = pd.get_dummies(housing_cat, drop_first=True)\n",
    "housing_dum.head()"
   ]
  },
  {
   "cell_type": "code",
   "execution_count": null,
   "id": "9d8c83fb",
   "metadata": {},
   "outputs": [],
   "source": [
    "X = pd.concat([X, housing_dum], axis=1)\n",
    "X.shape"
   ]
  },
  {
   "cell_type": "code",
   "execution_count": null,
   "id": "d4b2b93c",
   "metadata": {},
   "outputs": [],
   "source": [
    "X = X.drop(categorical, axis = 1)\n",
    "X.shape"
   ]
  },
  {
   "cell_type": "markdown",
   "id": "792327c8",
   "metadata": {},
   "source": [
    "### Splitting the data into Training data and Testing Data"
   ]
  },
  {
   "cell_type": "code",
   "execution_count": null,
   "id": "1f763205",
   "metadata": {},
   "outputs": [],
   "source": [
    "from sklearn.model_selection import train_test_split\n",
    "X_train, X_test, y_train, y_test = train_test_split(X, y, train_size=0.7,test_size = 0.3, random_state=100)\n",
    "X_train.head()"
   ]
  },
  {
   "cell_type": "code",
   "execution_count": null,
   "id": "aae47942",
   "metadata": {},
   "outputs": [],
   "source": [
    "y_train.head()"
   ]
  },
  {
   "cell_type": "markdown",
   "id": "aaa6ef63",
   "metadata": {},
   "source": [
    "### Feature Scaling"
   ]
  },
  {
   "cell_type": "code",
   "execution_count": null,
   "id": "88fbc51d",
   "metadata": {},
   "outputs": [],
   "source": [
    "#Checking which columns to be scaled\n",
    "X_train.select_dtypes(include=['int64','int32','float64','float32']).columns"
   ]
  },
  {
   "cell_type": "code",
   "execution_count": null,
   "id": "f19097c7",
   "metadata": {},
   "outputs": [],
   "source": [
    "num_vars=['MSSubClass', 'LotFrontage', 'LotArea', 'OverallQual', 'OverallCond', 'YearBuilt', 'YearRemodAdd', 'MasVnrArea', 'BsmtFinSF1', 'BsmtFinSF2',\n",
    "       'SaleType_ConLI', 'SaleType_ConLw', 'SaleType_New', 'SaleType_Oth', 'SaleType_WD', 'SaleCondition_AdjLand', 'SaleCondition_Alloca', 'SaleCondition_Family', 'SaleCondition_Normal', 'SaleCondition_Partial']\n",
    "X_train[num_vars].head()"
   ]
  },
  {
   "cell_type": "code",
   "execution_count": null,
   "id": "89bcf4f8",
   "metadata": {},
   "outputs": [],
   "source": [
    "#Scaling using MinMax\n",
    "from sklearn.preprocessing import MinMaxScaler\n",
    "scaler=MinMaxScaler()"
   ]
  },
  {
   "cell_type": "code",
   "execution_count": null,
   "id": "bae92f17",
   "metadata": {},
   "outputs": [],
   "source": [
    "X_train[num_vars]=scaler.fit_transform(X_train[num_vars])\n",
    "X_test[num_vars] = scaler.transform(X_test[num_vars])\n",
    "X_train.describe()"
   ]
  },
  {
   "cell_type": "code",
   "execution_count": null,
   "id": "751372b8",
   "metadata": {},
   "outputs": [],
   "source": [
    "X_test.describe()"
   ]
  },
  {
   "cell_type": "code",
   "execution_count": null,
   "id": "fd98902a",
   "metadata": {},
   "outputs": [],
   "source": [
    "X_train.shape"
   ]
  },
  {
   "cell_type": "markdown",
   "id": "4fa25bab",
   "metadata": {},
   "source": [
    "# Model Building"
   ]
  },
  {
   "cell_type": "markdown",
   "id": "bff62636",
   "metadata": {},
   "source": [
    "### RFE Model"
   ]
  },
  {
   "cell_type": "code",
   "execution_count": null,
   "id": "9920ce56",
   "metadata": {},
   "outputs": [],
   "source": [
    "#Importing Linear Regression Function from scikit learn for its compatibility with RFE\n",
    "from sklearn.feature_selection import RFE\n",
    "from sklearn.linear_model import LinearRegression"
   ]
  },
  {
   "cell_type": "code",
   "execution_count": null,
   "id": "924b5ecd",
   "metadata": {},
   "outputs": [],
   "source": [
    "#Running RFE with ouput number of variables=10\n",
    "lm=LinearRegression()\n",
    "lm.fit(X_train,y_train)\n",
    "\n",
    "rfe=RFE(lm,25)\n",
    "rfe=rfe.fit(X_train,y_train)\n",
    "#Finding the top ranked features\n",
    "list(zip(X_train.columns,rfe.support_,rfe.ranking_))"
   ]
  },
  {
   "cell_type": "code",
   "execution_count": null,
   "id": "6aa77f07",
   "metadata": {},
   "outputs": [],
   "source": [
    "#Print the coefficients and intercepts\n",
    "lm1=lm.fit(X_train,y_train)\n",
    "print(lm1.intercept_)\n"
   ]
  },
  {
   "cell_type": "code",
   "execution_count": null,
   "id": "d8404e0c",
   "metadata": {},
   "outputs": [],
   "source": [
    "print(lm1.coef_)"
   ]
  },
  {
   "cell_type": "code",
   "execution_count": null,
   "id": "fe425c7b",
   "metadata": {},
   "outputs": [],
   "source": [
    "#Importing libraries for model evaluation\n",
    "from sklearn.metrics import r2_score,mean_squared_error\n",
    "#Calculating r2score,RSS,RMSE\n",
    "y_pred_train=rfe.predict(X_train)\n",
    "y_pred_test=rfe.predict(X_test)"
   ]
  },
  {
   "cell_type": "code",
   "execution_count": null,
   "id": "41f4c876",
   "metadata": {},
   "outputs": [],
   "source": [
    "print(\"Linear Regression Scores\")\n",
    "print(\"====================================================================\")\n",
    "print('R2 score Linear Regression (train) : ',r2_score(y_train,y_pred_train))\n",
    "print('R2 score Linear Regression (test) : ' ,r2_score(y_test,y_pred_test))\n",
    "print(\"=======================================================================\")\n",
    "print('RSS Linear Regression (train) : ',np.sum(np.square(y_train-y_pred_train)))\n",
    "print('RSS Linear Regression (test) : ' ,np.sum(np.square(y_test-y_pred_test)))\n",
    "print(\"=======================================================================\")\n",
    "print('MSE Linear Regression (train) : ',mean_squared_error(y_train,y_pred_train))\n",
    "print('MSE Linear Regression (test) : ' ,mean_squared_error(y_test, y_pred_test))"
   ]
  },
  {
   "cell_type": "markdown",
   "id": "bb7cade6",
   "metadata": {},
   "source": [
    "###  Ridge Model"
   ]
  },
  {
   "cell_type": "code",
   "execution_count": null,
   "id": "41829397",
   "metadata": {},
   "outputs": [],
   "source": [
    "#Importing Libraries\n",
    "from sklearn.metrics import r2_score,mean_squared_error\n",
    "from sklearn.linear_model import Ridge\n",
    "from sklearn.linear_model import Lasso\n",
    "from sklearn.model_selection import GridSearchCV"
   ]
  },
  {
   "cell_type": "code",
   "execution_count": null,
   "id": "4f3953b2",
   "metadata": {},
   "outputs": [],
   "source": [
    "\n",
    "#Defining a list of alphas to tune\n",
    "params = {'alpha': [0.0001, 0.001, 0.01, 0.05, 0.1, 0.2, 0.3, 0.4, 0.5, 0.6, 0.7, 0.8, 0.9, 1.0, 2.0, 3.0, 4.0, \n",
    "                    5.0, 6.0, 7.0, 8.0, 9.0, 10.0,20, 50, 100, 500, 1000]}\n",
    "ridge = Ridge()\n",
    "folds = 5\n",
    "model_cv = GridSearchCV(estimator = ridge, param_grid = params, scoring= 'neg_mean_absolute_error', cv = folds, return_train_score=True, verbose = 1)            \n",
    "model_cv.fit(X_train, y_train)"
   ]
  },
  {
   "cell_type": "code",
   "execution_count": null,
   "id": "df71a26e",
   "metadata": {},
   "outputs": [],
   "source": [
    "print(model_cv.best_params_)\n",
    "print(model_cv.best_score_)"
   ]
  },
  {
   "cell_type": "code",
   "execution_count": null,
   "id": "36a82f55",
   "metadata": {},
   "outputs": [],
   "source": [
    "cv_results = pd.DataFrame(model_cv.cv_results_)\n",
    "cv_results = cv_results[cv_results['param_alpha']<=3]\n",
    "cv_results.head()"
   ]
  },
  {
   "cell_type": "code",
   "execution_count": null,
   "id": "f8978333",
   "metadata": {},
   "outputs": [],
   "source": [
    "# Ridge regression:\n",
    "ridge = Ridge(alpha=3)\n",
    "ridge.fit(X_train, y_train)\n",
    "ridge.coef_"
   ]
  },
  {
   "cell_type": "code",
   "execution_count": null,
   "id": "4b95b136",
   "metadata": {},
   "outputs": [],
   "source": [
    "# predict\n",
    "y_train_pred = ridge.predict(X_train)\n",
    "print(ridge,\" Regression\")\n",
    "print(\"===================================\")\n",
    "print('R2 score (train) : ',metrics.r2_score(y_true=y_train, y_pred=y_train_pred))\n",
    "y_test_pred = ridge.predict(X_test)\n",
    "print('R2 score (test) : ',metrics.r2_score(y_true=y_test, y_pred=y_test_pred))\n",
    "ridge_model = []\n",
    "r2_train = metrics.r2_score(y_true=y_train, y_pred=y_train_pred)\n",
    "ridge_model.append(r2_train)\n",
    "r2_test =  r2_score(y_test, y_pred_test)\n",
    "ridge_model.append(r2_test)"
   ]
  },
  {
   "cell_type": "code",
   "execution_count": null,
   "id": "5594b85e",
   "metadata": {},
   "outputs": [],
   "source": [
    "ridge_params = list(ridge.coef_)\n",
    "ridge_params.insert(0,ridge.intercept_)\n",
    "cols = X_train.columns\n",
    "ridge_coef = pd.DataFrame(list(zip(cols,ridge_params)))\n",
    "ridge_coef.columns = ['Features','Coefficients']\n",
    "ridge_coef.sort_values(by='Coefficients',ascending=False).head(10)"
   ]
  },
  {
   "cell_type": "markdown",
   "id": "61918f5e",
   "metadata": {},
   "source": [
    "### Lasso Model"
   ]
  },
  {
   "cell_type": "code",
   "execution_count": null,
   "id": "f26c1901",
   "metadata": {},
   "outputs": [],
   "source": [
    "lasso=Lasso()\n",
    "folds = 5\n",
    "#Doing cross-validation\n",
    "lasso_model_cv=GridSearchCV(estimator=lasso,\n",
    "                           param_grid=params,\n",
    "                           scoring='neg_mean_absolute_error',\n",
    "                           cv=folds,\n",
    "                           return_train_score=True,\n",
    "                           verbose=1)\n",
    "lasso_model_cv.fit(X_train,y_train)"
   ]
  },
  {
   "cell_type": "code",
   "execution_count": null,
   "id": "ef26886f",
   "metadata": {},
   "outputs": [],
   "source": [
    "print(lasso_model_cv.best_params_)\n",
    "print(lasso_model_cv.best_score_)"
   ]
  },
  {
   "cell_type": "code",
   "execution_count": null,
   "id": "589b5822",
   "metadata": {},
   "outputs": [],
   "source": [
    "alpha=50\n",
    "lasso=Lasso(alpha=alpha)\n",
    "lasso.fit(X_train,y_train)\n",
    "lasso.coef_"
   ]
  },
  {
   "cell_type": "code",
   "execution_count": null,
   "id": "3eb27db7",
   "metadata": {},
   "outputs": [],
   "source": [
    "Y_train_lasso = y_train.copy()\n",
    "model_lasso=lasso.fit(X_train, y_train)\n",
    "\n",
    "print(lasso,\" Regression\")\n",
    "print(\"===================================\")\n",
    "y_train_pred = lasso.predict(X_train)\n",
    "print('R2 score (train) : ',model_lasso.score(X_train, y_train))\n",
    "print('R2 score (test) : ',model_lasso.score(X_test,y_test))"
   ]
  },
  {
   "cell_type": "code",
   "execution_count": null,
   "id": "00161c05",
   "metadata": {},
   "outputs": [],
   "source": [
    "lasso_df = pd.DataFrame() \n",
    "lasso_df['Coeff Values'] = pd.Series(lasso.coef_) \n",
    "lasso_df['Variables'] = X_test.columns\n",
    "\n",
    "lasso_df = lasso_df.loc[lasso_df['Coeff Values']!=0]\n",
    "\n",
    "lasso_df['Absolute Coefficent'] =lasso_df['Coeff Values'].apply(lambda x:abs(x))\n",
    "lasso_df.sort_values(by=['Absolute Coefficent'],inplace=True,ascending=False)\n",
    "\n",
    "lasso_df.head(10)"
   ]
  },
  {
   "cell_type": "markdown",
   "id": "a21f50ae",
   "metadata": {},
   "source": [
    "# Model Evaluation"
   ]
  },
  {
   "cell_type": "code",
   "execution_count": null,
   "id": "b917554e",
   "metadata": {},
   "outputs": [],
   "source": [
    "# predict\n",
    "y_train_pred = ridge.predict(X_train)\n",
    "print(ridge,\" Regression\")\n",
    "print(\"===================================\")\n",
    "print('R2 score (train) : ',metrics.r2_score(y_true=y_train, y_pred=y_train_pred))\n",
    "y_test_pred = ridge.predict(X_test)\n",
    "print('R2 score (test) : ',metrics.r2_score(y_true=y_test, y_pred=y_test_pred))"
   ]
  },
  {
   "cell_type": "code",
   "execution_count": null,
   "id": "d534c338",
   "metadata": {
    "scrolled": false
   },
   "outputs": [],
   "source": [
    "Y_train_lasso = y_train.copy()\n",
    "model_lasso=lasso.fit(X_train, y_train)\n",
    "\n",
    "print(lasso,\" Regression\")\n",
    "print(\"===================================\")\n",
    "y_train_pred = lasso.predict(X_train)\n",
    "print('R2 score (train) : ',model_lasso.score(X_train, y_train))\n",
    "print('R2 score (test) : ',model_lasso.score(X_test,y_test))"
   ]
  },
  {
   "cell_type": "markdown",
   "id": "bcfda6b1",
   "metadata": {},
   "source": [
    "#### Selecting Lasso as the R2 test score of Lasso is better than Ridge."
   ]
  },
  {
   "cell_type": "code",
   "execution_count": null,
   "id": "7360b274",
   "metadata": {
    "scrolled": true
   },
   "outputs": [],
   "source": [
    "print('\\033[1mTop 10 features:\\033[1m')\n",
    "lasso_df.head(10)"
   ]
  },
  {
   "cell_type": "markdown",
   "id": "a1bb89de",
   "metadata": {},
   "source": [
    "#### Question 1\n",
    "**What is the optimal value of alpha for ridge and lasso regression? What will be the changes in the model if you choose double the value of alpha for both ridge and lasso? What will be the most important predictor variables after the change is implemented?**\n"
   ]
  },
  {
   "cell_type": "markdown",
   "id": "c74a8e21",
   "metadata": {},
   "source": [
    "**Ridge(alpha=3)  Regression**<br>\n",
    "R2 score (train) :  0.9393584980659788<br>\n",
    "R2 score (test) :  0.9170387823080166<br>\n",
    "\n",
    "**Lasso(alpha=50)  Regression**<br>\n",
    "R2 score (train) :  0.9369069139272894<br>\n",
    "R2 score (test) :  0.918395595610946<br>"
   ]
  },
  {
   "cell_type": "code",
   "execution_count": null,
   "id": "409d6303",
   "metadata": {},
   "outputs": [],
   "source": [
    "#Doubling the Alpha for ridge\n",
    "alpha=6\n",
    "ridge=Ridge(alpha=alpha)\n",
    "ridge.fit(X_train,y_train)"
   ]
  },
  {
   "cell_type": "code",
   "execution_count": null,
   "id": "41074433",
   "metadata": {},
   "outputs": [],
   "source": [
    "y_train_pred = ridge.predict(X_train)\n",
    "print(ridge,\" Regression\")\n",
    "print(\"===================================\")\n",
    "print('R2 score (train) : ',metrics.r2_score(y_true=y_train, y_pred=y_train_pred))\n",
    "y_test_pred = ridge.predict(X_test)\n",
    "print('R2 score (test) : ',metrics.r2_score(y_true=y_test, y_pred=y_test_pred))"
   ]
  },
  {
   "cell_type": "code",
   "execution_count": null,
   "id": "9e329778",
   "metadata": {},
   "outputs": [],
   "source": [
    "#Doubling the Alpha for lasso\n",
    "alpha=100\n",
    "lasso=Lasso(alpha=alpha)\n",
    "lasso.fit(X_train,y_train)\n",
    "lasso.coef_"
   ]
  },
  {
   "cell_type": "code",
   "execution_count": null,
   "id": "eafe2813",
   "metadata": {},
   "outputs": [],
   "source": [
    "Y_train_lasso = y_train.copy()\n",
    "model_lasso=lasso.fit(X_train, y_train)\n",
    "\n",
    "print(lasso,\" Regression\")\n",
    "print(\"===================================\")\n",
    "y_train_pred = lasso.predict(X_train)\n",
    "print('R2 score (train) : ',model_lasso.score(X_train, y_train))\n",
    "print('R2 score (test) : ',model_lasso.score(X_test,y_test))"
   ]
  },
  {
   "cell_type": "markdown",
   "id": "44ae3d70",
   "metadata": {},
   "source": [
    "Observations after doubling the value of Alpha:<br>\n",
    "R2 score reduced for the training and test data when doubling the alpha"
   ]
  },
  {
   "cell_type": "markdown",
   "id": "19c8d9ea",
   "metadata": {},
   "source": [
    "The top 10 predictor variables are:\n",
    "\n",
    "OverallQual<br>\n",
    "OverallCond<br>\n",
    "Neighborhood_StoneBr<br>\n",
    "Neighborhood_NoRidge<br>\n",
    "ExterQual_Gd<br>\n",
    "ExterQual_TA<br>\n",
    "LotArea<br>\n",
    "KitchenQual_Gd<br>\n",
    "KitchenQual_TA<br> \n",
    "YearBuilt<br>"
   ]
  },
  {
   "cell_type": "markdown",
   "id": "59bc2cb2",
   "metadata": {},
   "source": [
    "#### Question 2\n",
    "**You have determined the optimal value of lambda for ridge and lasso regression during the assignment. Now, which one will you choose to apply and why?**\n"
   ]
  },
  {
   "cell_type": "markdown",
   "id": "0d04eeef",
   "metadata": {},
   "source": [
    "Based on the R2scores we can choose **Lasso**, As the R2score is slightly high."
   ]
  },
  {
   "cell_type": "markdown",
   "id": "e917d993",
   "metadata": {},
   "source": [
    "#### Question 3\n",
    "**After building the model, you realised that the five most important predictor variables in the lasso model are not available in the incoming data. You will now have to create another model excluding the five most important predictor variables. Which are the five most important predictor variables now?**"
   ]
  },
  {
   "cell_type": "code",
   "execution_count": null,
   "id": "19a845a0",
   "metadata": {},
   "outputs": [],
   "source": [
    "X_train_new=X_train.drop(['LotArea','OverallQual','YearBuilt','BsmtFinSF1','TotalBsmtSF'],axis=1)\n",
    "X_test_new = X_test.drop(['LotArea','OverallQual','YearBuilt','BsmtFinSF1','TotalBsmtSF'],axis=1)"
   ]
  },
  {
   "cell_type": "code",
   "execution_count": null,
   "id": "d6204509",
   "metadata": {},
   "outputs": [],
   "source": [
    "# Building Lasso Model with the new dataset\n",
    "lasso_new = Lasso(alpha=50)\n",
    "lasso_new.fit(X_train_new,y_train)\n",
    "lasso_new_coef = lasso_new.coef_\n",
    "y_test_pred_new = lasso_new.predict(X_test_new)\n",
    "print('The R2 Score of the model on the test dataset is',r2_score(y_test, y_test_pred))\n",
    "print('The MSE of the model on the test dataset is', mean_squared_error(y_test, y_test_pred))\n",
    "lasso_new_coeff = pd.DataFrame(np.atleast_2d(lasso_new_coef),columns=X_train_new.columns)\n",
    "lasso_new_coeff = lasso_new_coeff.T\n",
    "lasso_new_coeff.rename(columns={0: 'Lasso Co-Efficient'},inplace=True)\n",
    "lasso_new_coeff.sort_values(by=['Lasso Co-Efficient'], ascending=False,inplace=True)\n",
    "print('The most important predictor variables are as follows:')\n",
    "lasso_new_coeff.head(5)"
   ]
  },
  {
   "cell_type": "markdown",
   "id": "72aac619",
   "metadata": {},
   "source": [
    "#### Question 4\n",
    "**How can you make sure that a model is robust and generalisable? What are the implications of the same for the accuracy of the model and why?**"
   ]
  },
  {
   "cell_type": "markdown",
   "id": "b0294d02",
   "metadata": {},
   "source": [
    "The most common rules to make a model robust and generalisable are:<br>\n",
    "1. Outlier Analysis is a must and we need to ensure that retain only those values which are relevant to the dataset<br>\n",
    "2. The model should be as simple as possible the more complex the model the more probability that it will overfit<br>\n",
    "\n",
    "If the above is not performed correctly there is a possiblity that the accuracy will decrease on the test set due to<br> overfitting or underfitting.<br>\n",
    "\n",
    "The above can analyzed using the Bias-Varience tradeoff:<br>\n",
    "**Bias** is a phenomenon that skews the result of an algorithm in favor or against an idea.<br>\n",
    "**Variance** refers to the changes in the model when using different portions of the training data set.<br>\n",
    "Bias and variance are inversely related, we must find a fine line between this to make our model robust and generalisable<br>"
   ]
  }
 ],
 "metadata": {
  "kernelspec": {
   "display_name": "Python 3 (ipykernel)",
   "language": "python",
   "name": "python3"
  },
  "language_info": {
   "codemirror_mode": {
    "name": "ipython",
    "version": 3
   },
   "file_extension": ".py",
   "mimetype": "text/x-python",
   "name": "python",
   "nbconvert_exporter": "python",
   "pygments_lexer": "ipython3",
   "version": "3.9.7"
  }
 },
 "nbformat": 4,
 "nbformat_minor": 5
}
